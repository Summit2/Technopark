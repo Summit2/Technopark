{
  "cells": [
    {
      "cell_type": "code",
      "execution_count": null,
      "metadata": {
        "id": "jPArT6BdrffC"
      },
      "outputs": [],
      "source": [
        "import numpy as np\n",
        "import pandas as pd"
      ]
    },
    {
      "cell_type": "code",
      "execution_count": null,
      "metadata": {
        "id": "iY_MQvi0rffD",
        "outputId": "725a68e9-5d3f-41f9-c3a8-13cf69e51cdc"
      },
      "outputs": [
        {
          "data": {
            "text/html": [
              "<div>\n",
              "<style scoped>\n",
              "    .dataframe tbody tr th:only-of-type {\n",
              "        vertical-align: middle;\n",
              "    }\n",
              "\n",
              "    .dataframe tbody tr th {\n",
              "        vertical-align: top;\n",
              "    }\n",
              "\n",
              "    .dataframe thead th {\n",
              "        text-align: right;\n",
              "    }\n",
              "</style>\n",
              "<table border=\"1\" class=\"dataframe\">\n",
              "  <thead>\n",
              "    <tr style=\"text-align: right;\">\n",
              "      <th></th>\n",
              "      <th>ID</th>\n",
              "      <th>url</th>\n",
              "      <th>title</th>\n",
              "      <th>label</th>\n",
              "    </tr>\n",
              "  </thead>\n",
              "  <tbody>\n",
              "    <tr>\n",
              "      <th>0</th>\n",
              "      <td>0</td>\n",
              "      <td>m.kp.md</td>\n",
              "      <td>Экс-министр экономики Молдовы - главе МИДЭИ, ц...</td>\n",
              "      <td>0</td>\n",
              "    </tr>\n",
              "    <tr>\n",
              "      <th>1</th>\n",
              "      <td>1</td>\n",
              "      <td>www.kp.by</td>\n",
              "      <td>Эта песня стала известна многим телезрителям б...</td>\n",
              "      <td>0</td>\n",
              "    </tr>\n",
              "    <tr>\n",
              "      <th>2</th>\n",
              "      <td>2</td>\n",
              "      <td>fanserials.tv</td>\n",
              "      <td>Банши 4 сезон 2 серия Бремя красоты смотреть о...</td>\n",
              "      <td>0</td>\n",
              "    </tr>\n",
              "    <tr>\n",
              "      <th>3</th>\n",
              "      <td>3</td>\n",
              "      <td>colorbox.spb.ru</td>\n",
              "      <td>Не Беси Меня Картинки</td>\n",
              "      <td>0</td>\n",
              "    </tr>\n",
              "    <tr>\n",
              "      <th>4</th>\n",
              "      <td>4</td>\n",
              "      <td>tula-sport.ru</td>\n",
              "      <td>В Новомосковске сыграют следж-хоккеисты алекси...</td>\n",
              "      <td>0</td>\n",
              "    </tr>\n",
              "  </tbody>\n",
              "</table>\n",
              "</div>"
            ],
            "text/plain": [
              "   ID              url                                              title  \\\n",
              "0   0          m.kp.md  Экс-министр экономики Молдовы - главе МИДЭИ, ц...   \n",
              "1   1        www.kp.by  Эта песня стала известна многим телезрителям б...   \n",
              "2   2    fanserials.tv  Банши 4 сезон 2 серия Бремя красоты смотреть о...   \n",
              "3   3  colorbox.spb.ru                              Не Беси Меня Картинки   \n",
              "4   4    tula-sport.ru  В Новомосковске сыграют следж-хоккеисты алекси...   \n",
              "\n",
              "   label  \n",
              "0      0  \n",
              "1      0  \n",
              "2      0  \n",
              "3      0  \n",
              "4      0  "
            ]
          },
          "execution_count": 2,
          "metadata": {},
          "output_type": "execute_result"
        }
      ],
      "source": [
        "train_df = pd.read_csv(\"train.csv\")\n",
        "\n",
        "train_df.head()"
      ]
    },
    {
      "cell_type": "code",
      "execution_count": null,
      "metadata": {
        "id": "CofTJE36rffD",
        "outputId": "cec0926b-2e2e-4352-9167-317583afdad9"
      },
      "outputs": [
        {
          "data": {
            "text/html": [
              "<div>\n",
              "<style scoped>\n",
              "    .dataframe tbody tr th:only-of-type {\n",
              "        vertical-align: middle;\n",
              "    }\n",
              "\n",
              "    .dataframe tbody tr th {\n",
              "        vertical-align: top;\n",
              "    }\n",
              "\n",
              "    .dataframe thead th {\n",
              "        text-align: right;\n",
              "    }\n",
              "</style>\n",
              "<table border=\"1\" class=\"dataframe\">\n",
              "  <thead>\n",
              "    <tr style=\"text-align: right;\">\n",
              "      <th></th>\n",
              "      <th>ID</th>\n",
              "      <th>url</th>\n",
              "      <th>title</th>\n",
              "    </tr>\n",
              "  </thead>\n",
              "  <tbody>\n",
              "    <tr>\n",
              "      <th>0</th>\n",
              "      <td>135309</td>\n",
              "      <td>www.kommersant.ru</td>\n",
              "      <td>Шестой кассационный суд в Самаре начнет работу...</td>\n",
              "    </tr>\n",
              "    <tr>\n",
              "      <th>1</th>\n",
              "      <td>135310</td>\n",
              "      <td>urexpert.online</td>\n",
              "      <td>Что такое индексация алиментов, кем и в каких ...</td>\n",
              "    </tr>\n",
              "    <tr>\n",
              "      <th>2</th>\n",
              "      <td>135311</td>\n",
              "      <td>imperimeha.ru</td>\n",
              "      <td>Женщинам | Империя Меха - Part 12</td>\n",
              "    </tr>\n",
              "    <tr>\n",
              "      <th>3</th>\n",
              "      <td>135312</td>\n",
              "      <td>national-porn.com</td>\n",
              "      <td>Небритые, волосатые киски: Порно всех стран и ...</td>\n",
              "    </tr>\n",
              "    <tr>\n",
              "      <th>4</th>\n",
              "      <td>135313</td>\n",
              "      <td>2gis.ru</td>\n",
              "      <td>67</td>\n",
              "    </tr>\n",
              "  </tbody>\n",
              "</table>\n",
              "</div>"
            ],
            "text/plain": [
              "       ID                url  \\\n",
              "0  135309  www.kommersant.ru   \n",
              "1  135310    urexpert.online   \n",
              "2  135311      imperimeha.ru   \n",
              "3  135312  national-porn.com   \n",
              "4  135313            2gis.ru   \n",
              "\n",
              "                                               title  \n",
              "0  Шестой кассационный суд в Самаре начнет работу...  \n",
              "1  Что такое индексация алиментов, кем и в каких ...  \n",
              "2                  Женщинам | Империя Меха - Part 12  \n",
              "3  Небритые, волосатые киски: Порно всех стран и ...  \n",
              "4                                                 67  "
            ]
          },
          "execution_count": 3,
          "metadata": {},
          "output_type": "execute_result"
        }
      ],
      "source": [
        "test_df = pd.read_csv(\"test.csv\")\n",
        "\n",
        "test_df.head()"
      ]
    },
    {
      "cell_type": "code",
      "execution_count": null,
      "metadata": {
        "id": "sbHK6GK5rffD"
      },
      "outputs": [],
      "source": [
        "from sklearn.metrics import f1_score"
      ]
    },
    {
      "cell_type": "code",
      "execution_count": null,
      "metadata": {
        "id": "DI7cMqi3rffE"
      },
      "outputs": [],
      "source": [
        "X_train = train_df[\"title\"].values\n",
        "X_test = test_df[\"title\"].values\n",
        "y_train = train_df[\"label\"].values"
      ]
    },
    {
      "cell_type": "markdown",
      "metadata": {
        "id": "LKptG9qCrffE"
      },
      "source": [
        "# Simple baseline"
      ]
    },
    {
      "cell_type": "code",
      "execution_count": null,
      "metadata": {
        "id": "Bn786yAVrffF"
      },
      "outputs": [],
      "source": [
        "y_pred = [int(\"порно\" in text) for text in X_train]"
      ]
    },
    {
      "cell_type": "code",
      "execution_count": null,
      "metadata": {
        "id": "Z9eXnUdfrffF",
        "outputId": "8a80f654-f15b-4203-de4e-b4889d6b960c"
      },
      "outputs": [
        {
          "data": {
            "text/plain": [
              "0.31242758551206484"
            ]
          },
          "execution_count": 7,
          "metadata": {},
          "output_type": "execute_result"
        }
      ],
      "source": [
        "f1_score(y_train, y_pred)"
      ]
    },
    {
      "cell_type": "markdown",
      "metadata": {
        "id": "octoaaUmrffF"
      },
      "source": [
        "### Submit"
      ]
    },
    {
      "cell_type": "code",
      "execution_count": null,
      "metadata": {
        "id": "6ibRhv83rffF",
        "outputId": "3eb128e4-744a-4c40-ea3e-fcea77f090c1"
      },
      "outputs": [
        {
          "name": "stdout",
          "output_type": "stream",
          "text": [
            "ID,label\r\n",
            "135309,0\r\n",
            "135310,0\r\n",
            "135311,0\r\n",
            "135312,0\r\n",
            "135313,0\r\n",
            "135314,0\r\n",
            "135315,0\r\n",
            "135316,0\r\n",
            "135317,0\r\n",
            "cat: stdout: Broken pipe\r\n"
          ]
        }
      ],
      "source": [
        "test_df[\"label\"] = [int(\"порно\" in text) for text in X_test]\n",
        "\n",
        "test_df[[\"ID\", \"label\"]].to_csv(\"simple_baseline.csv\", index=False)\n",
        "\n",
        "!cat simple_baseline.csv | head"
      ]
    },
    {
      "cell_type": "markdown",
      "metadata": {
        "id": "AFksZCOprffG"
      },
      "source": [
        "### Не все так однозначно\n",
        "\n",
        "**не порно**:\n",
        "- Болезни опорно-двигательной системы и импотенция: взаимосвязь\n",
        "- Транссексуальные рыбы - National Geographic Россия: красота мира в каждом кадре\n",
        "- Групповая обзорная экскурсия по Афинам - цена €50\n",
        "- Больного раком Задорнова затравили в соцсетях.\n",
        "- Гомосексуалисты на «Первом канале»? Эрнст и Галкин – скрытая гей-пара российского шоу-бизнеса | Заметки о стиле, моде и жизни\n",
        "\n",
        "**порно**:\n",
        "- Отборная домашка\n",
        "- Сюзанна - карьера горничной / Susanna cameriera perversa (с русским переводом) 1995 г., DVDRip"
      ]
    },
    {
      "cell_type": "markdown",
      "metadata": {
        "id": "k7fIlLckrffG"
      },
      "source": [
        "# ML baseline"
      ]
    },
    {
      "cell_type": "code",
      "execution_count": null,
      "metadata": {
        "id": "kF6LHfAfrffG"
      },
      "outputs": [],
      "source": [
        "from sklearn.feature_extraction.text import CountVectorizer\n",
        "from sklearn.naive_bayes import MultinomialNB\n",
        "\n",
        "vectorizer = CountVectorizer()\n",
        "\n",
        "model = MultinomialNB()"
      ]
    },
    {
      "cell_type": "code",
      "execution_count": null,
      "metadata": {
        "id": "B1TpN3HarffG",
        "outputId": "4c0e1cbb-adea-42a2-f6d8-42827f64ae1f"
      },
      "outputs": [
        {
          "data": {
            "text/plain": [
              "array(['Экс-министр экономики Молдовы - главе МИДЭИ, цель которого сделать из республики не просителя, а донора: Надо избегать долгого нахождения н�',\n",
              "       'Эта песня стала известна многим телезрителям благодаря сериалу Диверсант-2',\n",
              "       'Банши 4 сезон 2 серия Бремя красоты смотреть онлайн!', ...,\n",
              "       '1941 Plymouth Special Deluxe Hot Rod, Automatic,Small Block,Power Steering, A/C for sale: photos, technical specifications, description',\n",
              "       \"Купить It's Skin Сыворотка питательная Power 10 Formula YE Effector, 30 мл в Москве - WOWCREAM\",\n",
              "       'Технический спирт в канистрах и флаконах, купить в Москве'],\n",
              "      dtype=object)"
            ]
          },
          "execution_count": 10,
          "metadata": {},
          "output_type": "execute_result"
        }
      ],
      "source": [
        "X_train"
      ]
    },
    {
      "cell_type": "code",
      "execution_count": null,
      "metadata": {
        "id": "85OtgJSzrffH"
      },
      "outputs": [],
      "source": [
        "X_train_vectorized = vectorizer.fit_transform(X_train)"
      ]
    },
    {
      "cell_type": "code",
      "execution_count": null,
      "metadata": {
        "id": "nZO1HC0rrffH",
        "outputId": "65f1d889-1fa1-470e-b80e-3cf9a898be63"
      },
      "outputs": [
        {
          "data": {
            "text/plain": [
              "<135309x189852 sparse matrix of type '<class 'numpy.int64'>'\n",
              "\twith 1202659 stored elements in Compressed Sparse Row format>"
            ]
          },
          "execution_count": 12,
          "metadata": {},
          "output_type": "execute_result"
        }
      ],
      "source": [
        "X_train_vectorized"
      ]
    },
    {
      "cell_type": "code",
      "execution_count": null,
      "metadata": {
        "id": "lar31SXurffH"
      },
      "outputs": [],
      "source": [
        "feature_names = np.array(vectorizer.get_feature_names_out())"
      ]
    },
    {
      "cell_type": "code",
      "execution_count": null,
      "metadata": {
        "id": "zB9sWNrtrffH",
        "outputId": "4b942b65-c898-49bf-b799-14ffa202be10"
      },
      "outputs": [
        {
          "data": {
            "text/plain": [
              "array(['00', '000', '0000', ..., '𝔸𝕟𝕘𝕖𝕝𝕒', '𝔾𝕌𝕊𝕋𝔸𝕍', '𝕆𝕃𝔾𝔸'], dtype=object)"
            ]
          },
          "execution_count": 14,
          "metadata": {},
          "output_type": "execute_result"
        }
      ],
      "source": [
        "feature_names"
      ]
    },
    {
      "cell_type": "code",
      "execution_count": null,
      "metadata": {
        "id": "ebsx6aMGrffH",
        "outputId": "9935c9a2-64a1-4f95-d89b-a4d11dc24fea"
      },
      "outputs": [
        {
          "name": "stdout",
          "output_type": "stream",
          "text": [
            "Презентация на тему \"Приближенное значение. Абсолютная и относительная погрешнос\n"
          ]
        },
        {
          "data": {
            "text/plain": [
              "['абсолютная',\n",
              " 'значение',\n",
              " 'на',\n",
              " 'относительная',\n",
              " 'погрешнос',\n",
              " 'презентация',\n",
              " 'приближенное',\n",
              " 'тему']"
            ]
          },
          "execution_count": 15,
          "metadata": {},
          "output_type": "execute_result"
        }
      ],
      "source": [
        "id_ = 42\n",
        "\n",
        "print(X_train[id_])\n",
        "\n",
        "x_vector = X_train_vectorized.getrow(id_).toarray()[0]\n",
        "\n",
        "[feature for feature in feature_names[x_vector > 0]]"
      ]
    },
    {
      "cell_type": "code",
      "execution_count": null,
      "metadata": {
        "id": "BUaygAu8rffH",
        "outputId": "d952cfc8-24bb-474c-eb67-18705e040ce1"
      },
      "outputs": [
        {
          "name": "stdout",
          "output_type": "stream",
          "text": [
            "CPU times: user 48.4 ms, sys: 8.37 ms, total: 56.7 ms\n",
            "Wall time: 55.9 ms\n"
          ]
        }
      ],
      "source": [
        "%%time\n",
        "\n",
        "model.fit(\n",
        "    X_train_vectorized,\n",
        "    y_train\n",
        ")\n",
        "\n",
        "y_pred = model.predict(\n",
        "    X_train_vectorized\n",
        ")"
      ]
    },
    {
      "cell_type": "code",
      "execution_count": null,
      "metadata": {
        "id": "zAO1e7YorffH",
        "outputId": "eb5ae42b-3018-405a-ef9f-3e5a0b3ac3ba"
      },
      "outputs": [
        {
          "data": {
            "text/plain": [
              "0.9036641864382985"
            ]
          },
          "execution_count": 17,
          "metadata": {},
          "output_type": "execute_result"
        }
      ],
      "source": [
        "f1_score(y_train, y_pred)"
      ]
    },
    {
      "cell_type": "markdown",
      "metadata": {
        "id": "hxIt0NJfrffH"
      },
      "source": [
        "### Submit"
      ]
    },
    {
      "cell_type": "code",
      "execution_count": null,
      "metadata": {
        "id": "Syx7pQU5rffI",
        "outputId": "79048483-f021-474c-a233-22368836ceab"
      },
      "outputs": [
        {
          "name": "stdout",
          "output_type": "stream",
          "text": [
            "ID,label\r\n",
            "135309,0\r\n",
            "135310,0\r\n",
            "135311,0\r\n",
            "135312,1\r\n",
            "135313,0\r\n",
            "135314,0\r\n",
            "135315,0\r\n",
            "135316,0\r\n",
            "135317,0\r\n",
            "cat: stdout: Broken pipe\r\n"
          ]
        }
      ],
      "source": [
        "X_test_vectorized = vectorizer.transform(X_test)\n",
        "\n",
        "test_df[\"label\"] = model.predict(X_test_vectorized)\n",
        "\n",
        "test_df[[\"ID\", \"label\"]].to_csv(\"ml_baseline.csv\", index=False)\n",
        "\n",
        "!cat ml_baseline.csv | head"
      ]
    },
    {
      "cell_type": "code",
      "execution_count": null,
      "metadata": {
        "id": "97blNvgZrffI"
      },
      "outputs": [],
      "source": []
    }
  ],
  "metadata": {
    "kernelspec": {
      "display_name": "Python 3 (ipykernel)",
      "language": "python",
      "name": "python3"
    },
    "language_info": {
      "codemirror_mode": {
        "name": "ipython",
        "version": 3
      },
      "file_extension": ".py",
      "mimetype": "text/x-python",
      "name": "python",
      "nbconvert_exporter": "python",
      "pygments_lexer": "ipython3",
      "version": "3.10.9"
    },
    "colab": {
      "provenance": []
    }
  },
  "nbformat": 4,
  "nbformat_minor": 0
}