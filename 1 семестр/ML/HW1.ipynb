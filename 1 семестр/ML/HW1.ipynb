{
 "cells": [
  {
   "cell_type": "code",
   "execution_count": 144,
   "metadata": {
    "ExecuteTime": {
     "end_time": "2021-10-04T15:58:35.869898Z",
     "start_time": "2021-10-04T15:58:35.420168Z"
    }
   },
   "outputs": [],
   "source": [
    "import numpy as np"
   ]
  },
  {
   "cell_type": "markdown",
   "metadata": {},
   "source": [
    "# Максимум 5 баллов - по 1 баллу за задание"
   ]
  },
  {
   "cell_type": "markdown",
   "metadata": {},
   "source": [
    "### 1. Подсчитать произведение ненулевых элементов на диагонали прямоугольной матрицы. \n",
    "Для X = np.array([[1, 0, 1], [2, 0, 2], [3, 0, 3], [4, 4, 4]]) ответ 3."
   ]
  },
  {
   "cell_type": "code",
   "execution_count": 145,
   "metadata": {},
   "outputs": [],
   "source": [
    "#1.1\n",
    "def MultDiag(x):\n",
    "    '''\n",
    "    Рассчет произведения на диагонали с использованием numpy\n",
    "    Самый красивый и лаконичный метод (и скорее всего самый быстрый)\n",
    "    '''\n",
    "    diag=  np.diag(x)\n",
    "    return np.prod(diag[diag!=0])"
   ]
  },
  {
   "cell_type": "code",
   "execution_count": 146,
   "metadata": {},
   "outputs": [],
   "source": [
    "#1.2\n",
    "def MultDiag_with_for(x):\n",
    "    '''\n",
    "    Рассчет произведения на диагонали без использования numpy\n",
    "    По рабоче-крестьянски\n",
    "    '''\n",
    "    x=x.tolist()\n",
    "    i = len(x)\n",
    "    j = len(x[0])\n",
    "    result = 1\n",
    "    for ind in range(min(i,j)):\n",
    "        if x[ind][ind]!=0:\n",
    "\n",
    "            result*=x[ind][ind]\n",
    "    return(result)"
   ]
  },
  {
   "cell_type": "code",
   "execution_count": 147,
   "metadata": {},
   "outputs": [],
   "source": [
    "#1.3\n",
    "def MultDiag_with_for_partially(x):\n",
    "    '''\n",
    "    Рассчет произведения на диагонали с частичным использованием numpy\n",
    "    Из numpy взяли только функцию, возвращающую диагональ (например, мы не знаем про np.prod)\n",
    "    '''\n",
    "    diag=  np.diag(x).tolist()\n",
    "    result = 1\n",
    "    for elem in diag:\n",
    "        if elem!=0:\n",
    "            result*=elem\n",
    "    return result\n",
    "    "
   ]
  },
  {
   "cell_type": "code",
   "execution_count": null,
   "metadata": {},
   "outputs": [],
   "source": []
  },
  {
   "cell_type": "code",
   "execution_count": 148,
   "metadata": {},
   "outputs": [],
   "source": [
    "\n",
    "x = np.array([[999, 0, 1], [2, 0, 2], [3, 0, 3], [4, 4, 4]])"
   ]
  },
  {
   "cell_type": "code",
   "execution_count": 149,
   "metadata": {},
   "outputs": [
    {
     "data": {
      "text/plain": [
       "2997"
      ]
     },
     "execution_count": 149,
     "metadata": {},
     "output_type": "execute_result"
    }
   ],
   "source": [
    "MultDiag_with_for(x)"
   ]
  },
  {
   "cell_type": "code",
   "execution_count": 150,
   "metadata": {},
   "outputs": [
    {
     "data": {
      "text/plain": [
       "2997"
      ]
     },
     "execution_count": 150,
     "metadata": {},
     "output_type": "execute_result"
    }
   ],
   "source": [
    "MultDiag(x)"
   ]
  },
  {
   "cell_type": "code",
   "execution_count": 151,
   "metadata": {},
   "outputs": [
    {
     "data": {
      "text/plain": [
       "2997"
      ]
     },
     "execution_count": 151,
     "metadata": {},
     "output_type": "execute_result"
    }
   ],
   "source": [
    "MultDiag_with_for_partially(x)"
   ]
  },
  {
   "cell_type": "markdown",
   "metadata": {},
   "source": [
    "### 2. Даны два вектора x и y. Проверить, задают ли они одно и то же мультимножество. \n",
    "Для x = np.array([1, 2, 2, 4]), y = np.array([4, 2, 1, 2]) ответ True."
   ]
  },
  {
   "cell_type": "code",
   "execution_count": 152,
   "metadata": {},
   "outputs": [],
   "source": [
    "#2.1\n",
    "def multiset_no_for(x,y):\n",
    "    '''\n",
    "    Мультимножество с помощью встроенной в питон структуры set()\n",
    "    Как по мне, ничего больше и не надо\n",
    "    '''\n",
    "    return set(x)==set(y)"
   ]
  },
  {
   "cell_type": "code",
   "execution_count": 153,
   "metadata": {},
   "outputs": [],
   "source": [
    "#2.2\n",
    "def multiset_with_for(x,y):\n",
    "    '''\n",
    "    Мультимножество с циклом\n",
    "    '''\n",
    "    if len(x)!=len(y):\n",
    "        return False\n",
    "    x.sort()\n",
    "    y.sort()\n",
    "\n",
    "    for i in range(len(x)):\n",
    "        if x[i]!=y[i]:\n",
    "            return False\n",
    "    return True"
   ]
  },
  {
   "cell_type": "code",
   "execution_count": 154,
   "metadata": {},
   "outputs": [],
   "source": [
    "#2.3\n",
    "def multiset_with_vectors(x,y):\n",
    "    '''\n",
    "    Мультимножество с помощью методов numpy\n",
    "    '''\n",
    "    \n",
    "    return np.array_equal(np.sort(x),np.sort(y))"
   ]
  },
  {
   "cell_type": "code",
   "execution_count": null,
   "metadata": {},
   "outputs": [],
   "source": []
  },
  {
   "cell_type": "code",
   "execution_count": 155,
   "metadata": {},
   "outputs": [],
   "source": [
    "x = np.array([1, 2, 2, 4])\n",
    "y = np.array([4, 2, 1, 2])"
   ]
  },
  {
   "cell_type": "code",
   "execution_count": 156,
   "metadata": {},
   "outputs": [
    {
     "data": {
      "text/plain": [
       "True"
      ]
     },
     "execution_count": 156,
     "metadata": {},
     "output_type": "execute_result"
    }
   ],
   "source": [
    "multiset_no_for(x.tolist(), y.tolist())"
   ]
  },
  {
   "cell_type": "code",
   "execution_count": 157,
   "metadata": {},
   "outputs": [
    {
     "data": {
      "text/plain": [
       "True"
      ]
     },
     "execution_count": 157,
     "metadata": {},
     "output_type": "execute_result"
    }
   ],
   "source": [
    "multiset_with_vectors(x,y)"
   ]
  },
  {
   "cell_type": "code",
   "execution_count": 158,
   "metadata": {},
   "outputs": [
    {
     "data": {
      "text/plain": [
       "True"
      ]
     },
     "execution_count": 158,
     "metadata": {},
     "output_type": "execute_result"
    }
   ],
   "source": [
    "multiset_with_for(x.tolist(), y.tolist())"
   ]
  },
  {
   "cell_type": "markdown",
   "metadata": {},
   "source": [
    "### 3. Найти максимальный элемент в векторе x среди элементов, перед которыми стоит нулевой. \n",
    "Для x = np.array([6, 2, 0, 3, 0, 0, 5, 7, 0]) ответ 5."
   ]
  },
  {
   "cell_type": "code",
   "execution_count": 159,
   "metadata": {},
   "outputs": [],
   "source": [
    "#3.1\n",
    "def MaxAfterNull_with_for(x):\n",
    "    '''\n",
    "    функция с циклом for\n",
    "    '''\n",
    "    x=x.tolist()\n",
    "    maxi = min(x)\n",
    "    for i in range(1,len(x)):\n",
    "        if x[i-1]==0:\n",
    "            maxi = max(x[i], maxi)\n",
    "\n",
    "    return maxi"
   ]
  },
  {
   "cell_type": "code",
   "execution_count": 160,
   "metadata": {},
   "outputs": [],
   "source": [
    "#3.2\n",
    "def MaxAfterNull_vector(x):\n",
    "    '''\n",
    "    решению с помощью методов numpy и срезов\n",
    "    Немного тяжело читать код, зато он короткий \n",
    "    '''\n",
    "    nonzero_inds = np.nonzero(x)[0]  #ненулевые элементы\n",
    "    distance = abs(nonzero_inds[1:]-nonzero_inds[:-1]) #расстояние между элементами. Если оно больше одного, то перед элементом нуль\n",
    "    \n",
    "    max_index = max(nonzero_inds[1:][distance>1]) #\n",
    "\n",
    "    return x[max_index]\n"
   ]
  },
  {
   "cell_type": "code",
   "execution_count": 161,
   "metadata": {},
   "outputs": [],
   "source": [
    "#3.3\n",
    "def MaxAfterNull_vector_partial(x):\n",
    "    '''\n",
    "    Решение с частичным использованием numpy\n",
    "    Из numpy воспользовался только функцией np.nonzero, все остальное сделал циклом\n",
    "    '''\n",
    "    nonzero_inds = np.nonzero(x)[0].tolist()\n",
    "    x = x.tolist()\n",
    "\n",
    "    maxi = min(x)\n",
    "    for ind in range(1, len(nonzero_inds)):\n",
    "        if (nonzero_inds[ind] - nonzero_inds[ind-1]) > 1 :\n",
    "            maxi = max(x[nonzero_inds[ind]], maxi)\n",
    "    return maxi"
   ]
  },
  {
   "cell_type": "code",
   "execution_count": 162,
   "metadata": {},
   "outputs": [],
   "source": [
    "x = np.array([1, 2, 0, -2, 0, 91 ])"
   ]
  },
  {
   "cell_type": "code",
   "execution_count": 163,
   "metadata": {},
   "outputs": [
    {
     "data": {
      "text/plain": [
       "91"
      ]
     },
     "execution_count": 163,
     "metadata": {},
     "output_type": "execute_result"
    }
   ],
   "source": [
    "MaxAfterNull_with_for(x)"
   ]
  },
  {
   "cell_type": "code",
   "execution_count": 164,
   "metadata": {},
   "outputs": [
    {
     "data": {
      "text/plain": [
       "91"
      ]
     },
     "execution_count": 164,
     "metadata": {},
     "output_type": "execute_result"
    }
   ],
   "source": [
    "MaxAfterNull_vector(x)"
   ]
  },
  {
   "cell_type": "code",
   "execution_count": 165,
   "metadata": {},
   "outputs": [
    {
     "data": {
      "text/plain": [
       "91"
      ]
     },
     "execution_count": 165,
     "metadata": {},
     "output_type": "execute_result"
    }
   ],
   "source": [
    "MaxAfterNull_vector_partial(x)"
   ]
  },
  {
   "cell_type": "markdown",
   "metadata": {},
   "source": [
    "### 4. Дан трёхмерный массив, содержащий изображение, размера (height, width, numChannels), а также вектор длины numChannels. Сложить каналы изображения с указанными весами, и вернуть результат в виде матрицы размера (height, width). Считать реальное изображение можно при помощи функции scipy.misc.imread (если изображение не в формате png, установите пакет pillow: conda install pillow). Преобразуйте цветное изображение в оттенки серого, использовав коэффициенты np.array([0.299, 0.587, 0.114])."
   ]
  },
  {
   "cell_type": "code",
   "execution_count": null,
   "metadata": {},
   "outputs": [],
   "source": []
  },
  {
   "cell_type": "markdown",
   "metadata": {},
   "source": [
    "### 5. Реализовать кодирование длин серий (Run-length encoding). Дан вектор x. Необходимо вернуть кортеж из двух векторов одинаковой длины. Первый содержит числа, а второй - сколько раз их нужно повторить. \n",
    "Пример: x = np.array([2, 2, 2, 3, 3, 3, 5, 2, 2]). Ответ: (np.array([2, 3, 5, 2]), np.array([3, 3, 1, 2]))."
   ]
  },
  {
   "cell_type": "code",
   "execution_count": 166,
   "metadata": {},
   "outputs": [],
   "source": []
  },
  {
   "cell_type": "code",
   "execution_count": 178,
   "metadata": {},
   "outputs": [],
   "source": [
    "x = np.array([2, 2, 2, 3, 3, 3, 5, 2, 99,99,99,1,1])"
   ]
  },
  {
   "cell_type": "code",
   "execution_count": 179,
   "metadata": {},
   "outputs": [
    {
     "data": {
      "text/plain": [
       "(array([ 2,  3,  5,  2, 99]), array([3, 3, 1, 1, 3]))"
      ]
     },
     "execution_count": 179,
     "metadata": {},
     "output_type": "execute_result"
    }
   ],
   "source": [
    "def runLengthEncoding_with_for(x):\n",
    "    x=x.tolist()\n",
    "\n",
    "    elements = []\n",
    "    elements_count = []\n",
    "    count = 1\n",
    "    for i in range(1,len(x)):\n",
    "        \n",
    "        if x[i-1]==x[i]:\n",
    "            count+=1\n",
    "\n",
    "        elif x[i-1]!=x[i]:\n",
    "            elements.append(x[i-1])\n",
    "            elements_count.append(count)\n",
    "            count=1\n",
    "\n",
    "    return np.array(elements),np.array(elements_count)\n",
    "\n",
    "\n",
    "\n",
    "\n",
    "runLengthEncoding_with_for(x)"
   ]
  },
  {
   "cell_type": "code",
   "execution_count": 170,
   "metadata": {},
   "outputs": [
    {
     "data": {
      "text/plain": [
       "(array([2, 3, 5]), array([0, 3, 6], dtype=int64))"
      ]
     },
     "execution_count": 170,
     "metadata": {},
     "output_type": "execute_result"
    }
   ],
   "source": [
    "def runLengthEncoding_vectors(x):\n",
    "    arr, ind = np.unique(x,return_index=True)\n",
    "    return arr, ind\n",
    "runLengthEncoding_vectors(x)"
   ]
  },
  {
   "cell_type": "markdown",
   "metadata": {
    "ExecuteTime": {
     "end_time": "2021-10-04T16:02:41.398576Z",
     "start_time": "2021-10-04T16:02:41.395795Z"
    }
   },
   "source": [
    "##### Замечание. Можно считать, что все указанные объекты непустые (к примеру, в задаче №1 на диагонали матрицы есть ненулевые элементы).\n",
    "Полезные функции NumPy: np.zeros, np.ones, np.diag, np.eye, np.arange, np.linspace, np.meshgrid,\n",
    "np.random.random, np.random.randint, np.shape, np.reshape, np.transpose, np.any, np.all, np.nonzero, np.where,\n",
    "np.sum, np.cumsum, np.prod, np.diff, np.min, np.max, np.minimum, np.maximum, np.argmin, np.argmax, np.unique,\n",
    "np.sort, np.argsort, np.bincount, np.ravel, np.newaxis, np.dot, np.linalg.inv, np.linalg.solve.\n",
    "Многие из этих функций можно использовать так: x.argmin()."
   ]
  },
  {
   "cell_type": "markdown",
   "metadata": {},
   "source": [
    "# Для каждой из задач:\n",
    "(a) Написать на Python + NumPy несколько вариантов кода различной эффективности. Должно быть не\n",
    "менее трёх вариантов, в том числе как минимум один полностью векторизованный вариант (без циклов), и один\n",
    "вариант без векторизации (с циклами). Третий вариант решения — на ваше усмотрение, например, это может быть\n",
    "наиболее хорошо читаемый способ решения, или частично векторизованный вариант. Все пункты выполнять в одном google collab, разделяя их пунктами 1., 1.1, 1.2, 1.3; 2., 2.1, 2.2, 2.3; и тд.\n",
    "\n",
    "(b) Сравнить в IPython Notebook при помощи %timeit скорость работы на нескольких тестовых наборах\n",
    "РАЗНОГО размера (минимум 3, причём отличаться размеры входных данных должны минимум на порядок. Например, массивы длины 100, 1000, 10000).\n",
    "\n",
    "(c) Проанализировать полученные данные о скорости работы разных реализаций.\n",
    "\n",
    "(d) Получить выводы."
   ]
  },
  {
   "cell_type": "code",
   "execution_count": 169,
   "metadata": {},
   "outputs": [
    {
     "ename": "SyntaxError",
     "evalue": "invalid syntax (2806729027.py, line 1)",
     "output_type": "error",
     "traceback": [
      "\u001b[1;36m  Cell \u001b[1;32mIn [169], line 1\u001b[1;36m\u001b[0m\n\u001b[1;33m    Deadline - 20 марта в 23:59\u001b[0m\n\u001b[1;37m                  ^\u001b[0m\n\u001b[1;31mSyntaxError\u001b[0m\u001b[1;31m:\u001b[0m invalid syntax\n"
     ]
    }
   ],
   "source": [
    "Deadline - 20 марта в 23:59"
   ]
  }
 ],
 "metadata": {
  "kernelspec": {
   "display_name": "Python 3",
   "language": "python",
   "name": "python3"
  },
  "language_info": {
   "codemirror_mode": {
    "name": "ipython",
    "version": 3
   },
   "file_extension": ".py",
   "mimetype": "text/x-python",
   "name": "python",
   "nbconvert_exporter": "python",
   "pygments_lexer": "ipython3",
   "version": "3.10.11"
  }
 },
 "nbformat": 4,
 "nbformat_minor": 2
}
